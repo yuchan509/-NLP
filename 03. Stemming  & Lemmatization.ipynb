{
 "cells": [
  {
   "cell_type": "markdown",
   "metadata": {},
   "source": [
    "### Stemming  & Lemmatization\n",
    "- 코퍼스에 있는 단어의 개수를 줄일 수 있는 기법.\n",
    "    - 표제어 추출(lemmatization) : 단어들로부터 표제어를 찾아가는 과정. 비록 단어들이 다른 형태를 가지더라도, 그 뿌리 단어를 찾아가서 단어의 개수를 줄일 수 있는지 판단.\n",
    "        - ex) am, are, is --> be : 표제어\n",
    "    - 어간 추출(stemming) : 어간을 추출하는 작업.\n",
    "    \n",
    "    - 형태소\n",
    "        - 어간(stem) : 단어의 의미를 담고 있는 단어의 핵심 부분.\n",
    "        - 접사(affix) : 단어에 추가적인 의미를 주는 부분.\n",
    "    \n",
    "    - 형태학적 파싱 : 어간과 접사 두 가지 구성요소로 분리하는 작업. ex) cats -> cat(어간) + s(접사)\n",
    "    \n",
    "#### 한국어에서의 어간 추출\n",
    "| 언 | 품사 |  \n",
    "|-----|-----|\n",
    "|체언   |명사, 대명사, 수사|\n",
    "|수식언 |관형사, 부사|\n",
    "|관계언 |조사|\n",
    "|독립언 |감탄사|\n",
    "|**용언**| **동사**, **형용사**|\n",
    "\n",
    "- 어간(stem) : 용어(동사, 형용사)을 활용할 때, 원칙적으로 모양이 변하지 않는 부분을 의미하며, 활용(conjugation)에서 어미에 선행하는 부분. 때로는 어간의 모양도 바뀔 수 있음.(ex) 긋다, 긋고, 그어라, 그어서)\n",
    "\n",
    "- 어미(ending) : 용언의 어간 뒤에 붙어서 활용되면서 변하는 부분이며, 여러 문법적 기능을 수행.\n",
    "\n",
    "- 활용(conjugation) : 어간이 어미를 취함.\n",
    "    - 규칙 활용 : 어간이 어미를 취할 때, 어간의 모습이 일정할 경우. ex) 잡(어간) + 다(어미)\n",
    "    - 불규칙 활용 : 어간이 어미를 취할 때, 어간이나 어미의 모습이 변하는 경우. ex) 듣/들, 노랗/노라, 곱/고우, 돕/도우, 잇/이"
   ]
  },
  {
   "cell_type": "code",
   "execution_count": 1,
   "metadata": {},
   "outputs": [],
   "source": [
    "# 표제어 추출 도구.\n",
    "from nltk.stem import WordNetLemmatizer\n",
    "\n",
    "# Martin Porter의 Porter stemming algorithm으로 Porter 알고리즘은 영어의 접미사(suffix)를 제거.(어간 추출)\n",
    "from nltk.stem import PorterStemmer\n",
    "\n",
    "# Lancaster 대학이 개발한 Lancaster stemming algorithm으로 LancasterStemmer가 PorterStemmer에 비해 좀 더 성능이 좋음.\n",
    "from nltk.stem.lancaster import LancasterStemmer\n",
    "\n",
    "# RegexpStemmer는 사용자가 지정한 정규표현을 기준으로 동작하며, Porter나 Lancaster가 처리하지 못하는 특수한 부분에서 쓰는 것이 적절.\n",
    "from nltk.stem.regexp import RegexpStemmer\n",
    "\n",
    "# 영어 외의 13개 국가의 언어에대한 Stemming을 지원.\n",
    "from nltk.stem.snowball import SnowballStemmer\n",
    "\n",
    "# 가장 기본적인 word tokenization으로 space 단위와 구두점(punctuation)을 기준으로 토큰화(Tokenize)함.\n",
    "from nltk.tokenize import word_tokenize"
   ]
  },
  {
   "cell_type": "markdown",
   "metadata": {},
   "source": [
    "### 표제어(Lemmatization) 추출"
   ]
  },
  {
   "cell_type": "code",
   "execution_count": 2,
   "metadata": {},
   "outputs": [
    {
     "name": "stdout",
     "output_type": "stream",
     "text": [
      "['policy', 'doing', 'organization', 'have', 'going', 'love', 'life', 'fly', 'dy', 'watched', 'ha', 'starting']\n"
     ]
    }
   ],
   "source": [
    "n = WordNetLemmatizer()\n",
    "words = ['policy', 'doing', 'organization', 'have', 'going', 'love', \n",
    "         'lives', 'fly', 'dies', 'watched', 'has', 'starting']\n",
    "print([n.lemmatize(s) for s in words])"
   ]
  },
  {
   "cell_type": "code",
   "execution_count": 3,
   "metadata": {},
   "outputs": [
    {
     "name": "stdout",
     "output_type": "stream",
     "text": [
      "['policy', 'do', 'organization', 'have', 'go', 'love', 'live', 'fly', 'die', 'watch', 'have', 'start']\n"
     ]
    }
   ],
   "source": [
    "# 해당 단어 품사 정보 보존하면서 출력.\n",
    "print([n.lemmatize(s, 'v') for s in words])"
   ]
  },
  {
   "cell_type": "markdown",
   "metadata": {},
   "source": [
    "### 어간(stem) 추출\n",
    "- 품사 정보가 보존되지 않음. 즉 POS 태그를 고려하지 않음.\n",
    "    - POS tagging(part-of-speech tagging) : 형태소 분석 결과 분류된 품사를 태깅하는 작업."
   ]
  },
  {
   "cell_type": "code",
   "execution_count": 4,
   "metadata": {},
   "outputs": [
    {
     "name": "stdout",
     "output_type": "stream",
     "text": [
      "['This', 'was', 'not', 'the', 'map', 'we', 'found', 'in', 'Billy', 'Bones', \"'s\", 'chest', ',', 'but', 'an', 'accurate', 'copy', ',', 'complete', 'in', 'all', 'things', '--', 'names', 'and', 'heights', 'and', 'soundings', '--', 'with', 'the', 'single', 'exception', 'of', 'the', 'red', 'crosses', 'and', 'the', 'written', 'notes', '.']\n",
      "\n",
      "['thi', 'wa', 'not', 'the', 'map', 'we', 'found', 'in', 'billi', 'bone', \"'s\", 'chest', ',', 'but', 'an', 'accur', 'copi', ',', 'complet', 'in', 'all', 'thing', '--', 'name', 'and', 'height', 'and', 'sound', '--', 'with', 'the', 'singl', 'except', 'of', 'the', 'red', 'cross', 'and', 'the', 'written', 'note', '.']\n"
     ]
    }
   ],
   "source": [
    "stemmer = PorterStemmer()\n",
    "text    = '''This was not the map we found in Billy Bones's chest, but an accurate copy, \n",
    "          complete in all things--names and heights and soundings--with the single \n",
    "          exception of the red crosses and the written notes.'''\n",
    "words   = word_tokenize(text)\n",
    "\n",
    "# 사전에 없는 단어들이 포함되어 있는 모습을 알 수 있음. 위 알고리즘의 어간 추출은 단순 규칙에 의하여 이루어짐.\n",
    "print(words)\n",
    "print()\n",
    "print([stemmer.stem(s) for s in words])"
   ]
  },
  {
   "cell_type": "code",
   "execution_count": 5,
   "metadata": {},
   "outputs": [
    {
     "name": "stdout",
     "output_type": "stream",
     "text": [
      "['polici', 'do', 'organ', 'have', 'go', 'love', 'live', 'fli', 'die', 'watch', 'ha', 'start']\n"
     ]
    }
   ],
   "source": [
    "# PorterStemmer.\n",
    "words = ['policy', 'doing', 'organization', 'have', 'going', 'love', \n",
    "         'lives', 'fly', 'dies', 'watched', 'has', 'starting']\n",
    "print([stemmer.stem(s) for s in words])"
   ]
  },
  {
   "cell_type": "code",
   "execution_count": 6,
   "metadata": {},
   "outputs": [
    {
     "name": "stdout",
     "output_type": "stream",
     "text": [
      "['policy', 'doing', 'org', 'hav', 'going', 'lov', 'liv', 'fly', 'die', 'watch', 'has', 'start']\n"
     ]
    }
   ],
   "source": [
    "# Lancaster stemming.\n",
    "lancaster = LancasterStemmer()\n",
    "print([lancaster.stem(s) for s in words])"
   ]
  }
 ],
 "metadata": {
  "kernelspec": {
   "display_name": "PyTorch",
   "language": "python",
   "name": "pytorch"
  },
  "language_info": {
   "codemirror_mode": {
    "name": "ipython",
    "version": 3
   },
   "file_extension": ".py",
   "mimetype": "text/x-python",
   "name": "python",
   "nbconvert_exporter": "python",
   "pygments_lexer": "ipython3",
   "version": "3.7.10"
  }
 },
 "nbformat": 4,
 "nbformat_minor": 4
}
