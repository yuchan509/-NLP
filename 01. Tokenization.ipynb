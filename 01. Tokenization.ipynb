{
 "cells": [
  {
   "cell_type": "markdown",
   "metadata": {},
   "source": [
    "### 토큰화(Tokenization)\n",
    "- 코퍼스(corpus) 데이터가 필요에 맞게 전처리되지 않은 상태라면, 해당 데이터를 사용하고자하는 용도에 맞게 토큰화(tokenization) & 정제(cleaning) & 정규화(normalization) 등의 작업이 필요.\n",
    "- 토큰화(tokenization) : 주어진 코퍼스(corpus)에서 토큰(token)이라 불리는 단위로 나누는 작업. \n",
    "\n",
    "#### 토큰화에서 고려해야할 사항   \n",
    "    - 구두점이나 특수 문자를 단순 제외해서는 안됨.\n",
    "    - 줄임말과 단어 내에 띄어쓰기가 있는 경우.\n",
    "    - 하이푼으로 구성된 단어는 하나로 유지.\n",
    "    - 아포스트로피(')로 접어가 함께하는 단어는 분리.\n",
    "    \n",
    "#### 한국어에서의 토큰화의 어려움\n",
    "- 한국어에는 조사라는 개념이 존재. 따라서 '그녀'라는 단어에 '그녀를', '그녀에게', '그녀와' 같은 다양ㅇ한 조사가 띄어쓰기 없이 바로 붙음.\n",
    "- 즉, 같은 단어임에도 불구하고 서로 다른 조사가 붙어서 다른 단어로 인식이 되어버리는 경우가 많어 자연어 처리하기가 어려움.\n",
    "- 띄어쓰기 기본적으로 잘 지켜지지 않은 경우가 많음.\n",
    "- 한국어는 영어와 같은 어절 토큰화 방식이 아닌 형태소 토큰화가 이루어져야함.\n",
    "\n",
    "#### 형태소(Morpheme)\n",
    "- 가장 작은 말의 단위.\n",
    "    - 자립 형태소 : 접사, 어미, 조사와 관계없이 자립하여 사용 가능한 형태소로 그 자체로 단어가 됨. 체언, 수식언, 감탄사 등이 포함.\n",
    "    - 의존 형태소 : 다른 형태소와 결합하여 사용되는 형태소로 접사, 어미, 어간, 조사를 포함.\n",
    "    \n",
    "#### 품사 태깅(Part-of-speech tagging, POS taging)\n",
    "- '못'이라는 단어는 망치를 사용해서 목재 따위를 고정하는 물건을 의미하기도 하지만, 부사로서의 '못'의 의미는 어떤 동작을 할 수 없다로 쓰임.\n",
    "- 따라서 단어 토큰화 과정에서 각 단어가 어떤 품사로 쓰였는지를 구분할 필요가 있음."
   ]
  },
  {
   "cell_type": "code",
   "execution_count": 1,
   "metadata": {},
   "outputs": [],
   "source": [
    "# 아포스트로피를(')가 들어가있는 단어는 어떻게 토큰으로 분류해야할까라는 문제.\n",
    "text = \"Don't be fooled by the dark sounding name, Mr. Jone's Orphanage is as cheery as cheery goes for a pastry shop.\"\n",
    "print(text)    "
   ]
  },
  {
   "cell_type": "code",
   "execution_count": 2,
   "metadata": {},
   "outputs": [],
   "source": [
    "# NLTK : 영어 코퍼스를 토큰화하기 위한 도구들을 제공.\n",
    "from nltk.tokenize import word_tokenize, WordPunctTokenizer\n",
    "# import nltk\n",
    "# nltk.download('punkt')\n",
    "\n",
    "# keras로부터 지원하고 있는 토큰화 도구.\n",
    "from tensorflow.keras.preprocessing.text import text_to_word_sequence\n",
    "\n",
    "# 문장일 경우 토큰화하기 위한 도구.\n",
    "from nltk.tokenize import sent_tokenize\n",
    "\n",
    "# 품사 태깅 도구.\n",
    "from nltk.tag import pos_tag\n",
    "from konlpy.tag import Okt, Kkma"
   ]
  },
  {
   "cell_type": "code",
   "execution_count": 3,
   "metadata": {},
   "outputs": [
    {
     "name": "stdout",
     "output_type": "stream",
     "text": [
      "['Do', \"n't\", 'be', 'fooled', 'by', 'the', 'dark', 'sounding', 'name', ',', 'Mr.', 'Jone', \"'s\", 'Orphanage', 'is', 'as', 'cheery', 'as', 'cheery', 'goes', 'for', 'a', 'pastry', 'shop', '.']\n"
     ]
    }
   ],
   "source": [
    "print(word_tokenize(text))"
   ]
  },
  {
   "cell_type": "code",
   "execution_count": 4,
   "metadata": {},
   "outputs": [
    {
     "name": "stdout",
     "output_type": "stream",
     "text": [
      "['Don', \"'\", 't', 'be', 'fooled', 'by', 'the', 'dark', 'sounding', 'name', ',', 'Mr', '.', 'Jone', \"'\", 's', 'Orphanage', 'is', 'as', 'cheery', 'as', 'cheery', 'goes', 'for', 'a', 'pastry', 'shop', '.']\n"
     ]
    }
   ],
   "source": [
    "print(WordPunctTokenizer().tokenize(text))"
   ]
  },
  {
   "cell_type": "code",
   "execution_count": 5,
   "metadata": {},
   "outputs": [
    {
     "name": "stdout",
     "output_type": "stream",
     "text": [
      "[\"don't\", 'be', 'fooled', 'by', 'the', 'dark', 'sounding', 'name', 'mr', \"jone's\", 'orphanage', 'is', 'as', 'cheery', 'as', 'cheery', 'goes', 'for', 'a', 'pastry', 'shop']\n"
     ]
    }
   ],
   "source": [
    "# text_to_word_sequence : 기본적으로 모든 알파벳을 소문자로 바꾸면서 마침표나 컴마, 느낌표 등의 구두점을 제거.\n",
    "# 아포스트로피를(')는 보존하는 형태를 가짐.\n",
    "print(text_to_word_sequence(text))"
   ]
  },
  {
   "cell_type": "code",
   "execution_count": 6,
   "metadata": {},
   "outputs": [
    {
     "name": "stdout",
     "output_type": "stream",
     "text": [
      "['His barber kept his word.', 'But keeping such a huge secret to himself was driving him crazy.', 'Finally, the barber went up a mountain and almost to the edge of a cliff.', 'He dug a hole in the midst of some reeds.', 'He looked about, to make sure no one was near.']\n"
     ]
    }
   ],
   "source": [
    "text = '''His barber kept his word. But keeping such a huge secret to himself was driving him crazy.\n",
    "          Finally, the barber went up a mountain and almost to the edge of a cliff. He dug a hole in the midst of some reeds. He looked about, to make sure no one was near.'''\n",
    "print(sent_tokenize(text))"
   ]
  },
  {
   "cell_type": "code",
   "execution_count": 7,
   "metadata": {},
   "outputs": [
    {
     "name": "stdout",
     "output_type": "stream",
     "text": [
      "['I am actively looking for Ph.D. students.', 'and you are a Ph.D student.']\n"
     ]
    }
   ],
   "source": [
    "# 문장 가운데 마침표(.)가 여러번 등장하는 경우.\n",
    "# 이와 같은 경우에도 성공적으로 분리해내는 것을 알 수 있음.\n",
    "text = 'I am actively looking for Ph.D. students. and you are a Ph.D student.'\n",
    "print(sent_tokenize(text))"
   ]
  },
  {
   "cell_type": "code",
   "execution_count": 8,
   "metadata": {},
   "outputs": [],
   "source": [
    "# 박상길이 개발한 한국어 문장 분리 도구.(Korean Sentence Splitter)\n",
    "from kss import split_sentences"
   ]
  },
  {
   "cell_type": "code",
   "execution_count": 9,
   "metadata": {},
   "outputs": [
    {
     "name": "stdout",
     "output_type": "stream",
     "text": [
      "['딥 러닝 자연어 처리가 재미있기는 합니다.', '그런데 문제는 영어보다 한국어로 할 때 너무 어려워요.', '농담아니에요.', '이제 해보면 알걸요?']\n"
     ]
    }
   ],
   "source": [
    "text = '딥 러닝 자연어 처리가 재미있기는 합니다. 그런데 문제는 영어보다 한국어로 할 때 너무 어려워요. 농담아니에요. 이제 해보면 알걸요?'\n",
    "print(split_sentences(text))"
   ]
  },
  {
   "cell_type": "code",
   "execution_count": 10,
   "metadata": {},
   "outputs": [
    {
     "name": "stdout",
     "output_type": "stream",
     "text": [
      "[('I', 'PRP'), ('am', 'VBP'), ('actively', 'RB'), ('looking', 'VBG'), ('for', 'IN'), ('Ph.D.', 'NNP'), ('students', 'NNS'), ('.', '.'), ('and', 'CC'), ('you', 'PRP'), ('are', 'VBP'), ('a', 'DT'), ('Ph.D.', 'NNP'), ('student', 'NN'), ('.', '.')]\n"
     ]
    }
   ],
   "source": [
    "# 영어 품사 태깅.\n",
    "text = \"I am actively looking for Ph.D. students. and you are a Ph.D. student.\"\n",
    "print(pos_tag(word_tokenize(text)))"
   ]
  },
  {
   "cell_type": "markdown",
   "metadata": {},
   "source": [
    "#### 꼬꼬마 형태소 분석기 태그표(Tag table)\n",
    "- http://kkma.snu.ac.kr/documents/?doc=postag"
   ]
  },
  {
   "cell_type": "code",
   "execution_count": 11,
   "metadata": {},
   "outputs": [
    {
     "name": "stdout",
     "output_type": "stream",
     "text": [
      "['열심히', '코딩', '한', '당신', ',', '연휴', '에는', '여행', '을', '가봐요', '.']\n",
      "\n",
      "['코딩', '당신', '연휴', '여행']\n",
      "\n",
      "[('열심히', 'Adverb'), ('코딩', 'Noun'), ('한', 'Josa'), ('당신', 'Noun'), (',', 'Punctuation'), ('연휴', 'Noun'), ('에는', 'Josa'), ('여행', 'Noun'), ('을', 'Josa'), ('가봐요', 'Verb'), ('.', 'Punctuation')]\n",
      "\n",
      "['열심히', '코딩', '하', 'ㄴ', '당신', ',', '연휴', '에', '는', '여행', '을', '가보', '아요', '.']\n",
      "\n",
      "['코딩', '당신', '연휴', '여행']\n",
      "\n",
      "[('열심히', 'MAG'), ('코딩', 'NNG'), ('하', 'XSV'), ('ㄴ', 'ETD'), ('당신', 'NP'), (',', 'SP'), ('연휴', 'NNG'), ('에', 'JKM'), ('는', 'JX'), ('여행', 'NNG'), ('을', 'JKO'), ('가보', 'VV'), ('아요', 'EFN'), ('.', 'SF')]\n"
     ]
    }
   ],
   "source": [
    "# 형태소 토큰화(morpheme tokenization) 작업.\n",
    "okt = Okt()\n",
    "print(okt.morphs('열심히 코딩한 당신, 연휴에는 여행을 가봐요.'))\n",
    "print()\n",
    "\n",
    "# 명사 토큰화 작엄.\n",
    "print(okt.nouns('열심히 코딩한 당신, 연휴에는 여행을 가봐요.'))\n",
    "print()\n",
    "\n",
    "# 한국어 품사 태깅.\n",
    "print(okt.pos('열심히 코딩한 당신, 연휴에는 여행을 가봐요.'))\n",
    "print()\n",
    "\n",
    "# 꼬꼬마 형태소 분석기.\n",
    "kkma = Kkma()\n",
    "print(kkma.morphs('열심히 코딩한 당신, 연휴에는 여행을 가봐요.'))\n",
    "print()\n",
    "print(kkma.nouns('열심히 코딩한 당신, 연휴에는 여행을 가봐요.'))\n",
    "print()\n",
    "print(kkma.pos('열심히 코딩한 당신, 연휴에는 여행을 가봐요.'))"
   ]
  }
 ],
 "metadata": {
  "kernelspec": {
   "display_name": "Python 3",
   "language": "python",
   "name": "python3"
  },
  "language_info": {
   "codemirror_mode": {
    "name": "ipython",
    "version": 3
   },
   "file_extension": ".py",
   "mimetype": "text/x-python",
   "name": "python",
   "nbconvert_exporter": "python",
   "pygments_lexer": "ipython3",
   "version": "3.8.5"
  }
 },
 "nbformat": 4,
 "nbformat_minor": 4
}
