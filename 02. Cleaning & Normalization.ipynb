{
 "cells": [
  {
   "cell_type": "markdown",
   "metadata": {},
   "source": [
    "### Cleaning & Normalization\n",
    "#### 토큰화 작업 전, 후 작업\n",
    "- **정제(cleaning)** : 갖고 있는 코퍼스로부터 노이즈 데이터를 제거.\n",
    "- **정규화(normalization)** : 표현 방법이 다른 단어들을 통합시켜서 같은 단어로 만듬.\n",
    "- **토큰화(tokenization)** : 코퍼스에서 용도에 맞게 토큰을 분류하는 작업."
   ]
  },
  {
   "cell_type": "markdown",
   "metadata": {},
   "source": [
    "### 규칙에 기반한 표기가 다른 단어들의 통합\n",
    "- US, USA는 서로 같은 의미를 가지므로 하나의 단어로 정규화해 볼 수 있음."
   ]
  },
  {
   "cell_type": "markdown",
   "metadata": {},
   "source": [
    "### 대, 소문자 통합\n",
    "- 영어권 언어에서 대소문자의 통합을 통해 단어의 개수를 줄일 수 있음.\n",
    "- 그러나 무작정 통합해서는 안됨. ex) US, us 등과 같은 사례는 구분될 필요가 있음."
   ]
  },
  {
   "cell_type": "markdown",
   "metadata": {},
   "source": [
    "### 불필요한 단어의 제거\n",
    "- **노이즈 데이터(noise data)** : 정제 작업에서 제거해야하는 데이터로, 자연어가 아니면서 아무 의미도 갖지 않는 글자들(특수 문자 등)을 의미하기도 하나, 분석하고자 하는 목적에 맞지 않는 불필요한 단어를 의미하기도 함.\n",
    "\n",
    "    - 1. 등장 빈도가 적은 단어(Removing Rare words)\n",
    "    - 2. 길이가 짧은 단어(Removing words with very a short length)"
   ]
  },
  {
   "cell_type": "markdown",
   "metadata": {},
   "source": [
    "### 정규 표현식(Regular Expression)\n",
    "- 얻어낸 코퍼스에서 노이즈 데이터의 특징을 잡아낼 수 있다면, 정규 표현식을 통해서 이를 제거 가능. "
   ]
  },
  {
   "cell_type": "code",
   "execution_count": 1,
   "metadata": {},
   "outputs": [
    {
     "name": "stdout",
     "output_type": "stream",
     "text": [
      " was wondering anyone out there could enlighten this car.\n"
     ]
    }
   ],
   "source": [
    "# 길이가 1~2인 단어들을 정규 표현식을 이용하여 삭제.\n",
    "import re\n",
    "\n",
    "text = 'I was wondering if anyone out there could enlighten me on this car.'\n",
    "shortword = re.compile(r'\\W*\\b\\w{1,2}\\b')\n",
    "print(shortword.sub('', text))"
   ]
  }
 ],
 "metadata": {
  "kernelspec": {
   "display_name": "PyTorch",
   "language": "python",
   "name": "pytorch"
  },
  "language_info": {
   "codemirror_mode": {
    "name": "ipython",
    "version": 3
   },
   "file_extension": ".py",
   "mimetype": "text/x-python",
   "name": "python",
   "nbconvert_exporter": "python",
   "pygments_lexer": "ipython3",
   "version": "3.7.10"
  }
 },
 "nbformat": 4,
 "nbformat_minor": 4
}
