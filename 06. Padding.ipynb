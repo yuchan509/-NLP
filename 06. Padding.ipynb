{
 "cells": [
  {
   "cell_type": "markdown",
   "metadata": {},
   "source": [
    "### Padding\n",
    "- 데이터에 특정값을 채워서 데이터 크기(shape)를 조정하는 것.\n",
    "- 자연어 처리를 하다보면 각 문장(또는 문서)은 서로 길이가 다름. \n",
    "- 그러나 기계는 길이가 전부 동일한 문서들에 대해서는 하나의 행렬로 보고, 한꺼번에 묶어서 처리할 수 있음. \n",
    "- 즉, 병렬 연산을 위해서 여러 문장의 길이를 임의로 동일하게 맞춰주는 작업이 필요."
   ]
  },
  {
   "cell_type": "code",
   "execution_count": 1,
   "metadata": {},
   "outputs": [],
   "source": [
    "import numpy as np\n",
    "from tensorflow.keras.preprocessing.text import Tokenizer\n",
    "from tensorflow.keras.preprocessing.sequence import pad_sequences"
   ]
  },
  {
   "cell_type": "code",
   "execution_count": 2,
   "metadata": {},
   "outputs": [
    {
     "name": "stdout",
     "output_type": "stream",
     "text": [
      "[[1, 5], [1, 8, 5], [1, 3, 5], [9, 2], [2, 4, 3, 2], [3, 2], [1, 4, 6], [1, 4, 6], [1, 4, 2], [7, 7, 3, 2, 10, 1, 11], [1, 12, 3, 13]]\n",
      "최대 길이 : 7\n",
      "[[ 1  5  0  0  0  0  0]\n",
      " [ 1  8  5  0  0  0  0]\n",
      " [ 1  3  5  0  0  0  0]\n",
      " [ 9  2  0  0  0  0  0]\n",
      " [ 2  4  3  2  0  0  0]\n",
      " [ 3  2  0  0  0  0  0]\n",
      " [ 1  4  6  0  0  0  0]\n",
      " [ 1  4  6  0  0  0  0]\n",
      " [ 1  4  2  0  0  0  0]\n",
      " [ 7  7  3  2 10  1 11]\n",
      " [ 1 12  3 13  0  0  0]]\n",
      "\n",
      "[[ 1  5  0  0  0  0  0]\n",
      " [ 1  8  5  0  0  0  0]\n",
      " [ 1  3  5  0  0  0  0]\n",
      " [ 9  2  0  0  0  0  0]\n",
      " [ 2  4  3  2  0  0  0]\n",
      " [ 3  2  0  0  0  0  0]\n",
      " [ 1  4  6  0  0  0  0]\n",
      " [ 1  4  6  0  0  0  0]\n",
      " [ 1  4  2  0  0  0  0]\n",
      " [ 7  7  3  2 10  1 11]\n",
      " [ 1 12  3 13  0  0  0]]\n",
      "\n",
      "[[ 0  0  0  0  0]\n",
      " [ 5  0  0  0  0]\n",
      " [ 5  0  0  0  0]\n",
      " [ 0  0  0  0  0]\n",
      " [ 3  2  0  0  0]\n",
      " [ 0  0  0  0  0]\n",
      " [ 6  0  0  0  0]\n",
      " [ 6  0  0  0  0]\n",
      " [ 2  0  0  0  0]\n",
      " [ 3  2 10  1 11]\n",
      " [ 3 13  0  0  0]]\n",
      "\n",
      "[[ 1  5  0  0  0  0  0]\n",
      " [ 1  8  5  0  0  0  0]\n",
      " [ 1  3  5  0  0  0  0]\n",
      " [ 9  2  0  0  0  0  0]\n",
      " [ 2  4  3  2  0  0  0]\n",
      " [ 3  2  0  0  0  0  0]\n",
      " [ 1  4  6  0  0  0  0]\n",
      " [ 1  4  6  0  0  0  0]\n",
      " [ 1  4  2  0  0  0  0]\n",
      " [ 7  7  3  2 10  1 11]\n",
      " [ 1 12  3 13  0  0  0]]\n"
     ]
    }
   ],
   "source": [
    "text = [['barber', 'person'], ['barber', 'good', 'person'], ['barber', 'huge', 'person'], \n",
    "         ['knew', 'secret'], ['secret', 'kept', 'huge', 'secret'], ['huge', 'secret'], \n",
    "         ['barber', 'kept', 'word'], ['barber', 'kept', 'word'], ['barber', 'kept', 'secret'], \n",
    "         ['keeping', 'keeping', 'huge', 'secret', 'driving', 'barber', 'crazy'], \n",
    "         ['barber', 'went', 'huge', 'mountain']]\n",
    "\n",
    "# 정수 인코딩.\n",
    "tokenizer = Tokenizer()\n",
    "\n",
    "# fit_on_texts() : 코퍼스를 입력값으로 하면 빈도수를 기준으로 단어 집합을 생성.\n",
    "tokenizer.fit_on_texts(text)\n",
    "encoded = tokenizer.texts_to_sequences(text)\n",
    "print(encoded)\n",
    "\n",
    "# 모두 동일한 길이를 맞추기 위한 가장 긴 문장의 길이를 찾음.\n",
    "max_len =  max(len(i) for i in encoded)\n",
    "print(f'최대 길이 : {max_len}')\n",
    "\n",
    "# Padding : max_len 보다 짧은 문장의 길이를 가진 경우 0을 채워서 길이를 동일하게 작업.\n",
    "for i in encoded :\n",
    "    while len(i) < max_len :\n",
    "        # zero padding.\n",
    "        i.append(0)\n",
    "        \n",
    "padded_np = np.array(encoded)\n",
    "print(padded_np)\n",
    "print()\n",
    "\n",
    "# keras -> pad_sequences() padding 기능을 제공.\n",
    "padded = pad_sequences(encoded, padding='pre')\n",
    "print(padded)\n",
    "print()\n",
    "\n",
    "# padding의 길이를 반드시 최대 길이로 설정할 필요는 없음.\n",
    "# 극단적인 길이가 존재할 시 maxlen 옵션에 적당한 정수값을 설정하여 padding 가능.\n",
    "padded2 = pad_sequences(encoded, padding='pre', maxlen = 5)\n",
    "print(padded2)\n",
    "print()\n",
    "\n",
    "# 실제 한 열이 전부 0으로 이루어진다고 생각해야하므로, 단어 집합 크기보다 1 큰 수를 사용.\n",
    "last_value = len(tokenizer.word_index) + 1\n",
    "padded3 = pad_sequences(encoded, padding='pre', value = last_value)\n",
    "print(padded3)"
   ]
  }
 ],
 "metadata": {
  "kernelspec": {
   "display_name": "Python 3",
   "language": "python",
   "name": "python3"
  },
  "language_info": {
   "codemirror_mode": {
    "name": "ipython",
    "version": 3
   },
   "file_extension": ".py",
   "mimetype": "text/x-python",
   "name": "python",
   "nbconvert_exporter": "python",
   "pygments_lexer": "ipython3",
   "version": "3.8.5"
  }
 },
 "nbformat": 4,
 "nbformat_minor": 5
}
