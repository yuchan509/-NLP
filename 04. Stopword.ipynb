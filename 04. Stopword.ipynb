{
 "cells": [
  {
   "cell_type": "markdown",
   "metadata": {},
   "source": [
    "### Stopword\n",
    "- 갖고 있는 데이터에서 유의미한 단어 토큰만을 선별하기 위해서는 큰 의미가 없는 단어 토큰을 제거하는 작업이 필요.\n",
    "- 여기서 큰 의미가 없다라는 것은 자주 등장하지만 분석을 하는 것에 있어서는 큰 도움이 되지 않는 단어들."
   ]
  },
  {
   "cell_type": "code",
   "execution_count": 1,
   "metadata": {},
   "outputs": [
    {
     "name": "stdout",
     "output_type": "stream",
     "text": [
      "['Family', 'important', 'thing', '.', 'It', \"'s\", 'everything']\n"
     ]
    }
   ],
   "source": [
    "from nltk.corpus import stopwords\n",
    "from nltk.tokenize import word_tokenize\n",
    "\n",
    "# 영어 불용어 리스트.\n",
    "stopwords.words('english')[:20]\n",
    "\n",
    "# 불용어 제거.\n",
    "text = \"Family is not an important thing. It's everything\"\n",
    "\n",
    "# 불용어 집합.\n",
    "stop_word = set(stopwords.words('english'))\n",
    "\n",
    "# 문장 토큰화 작업.\n",
    "word_token = word_tokenize(text)\n",
    "\n",
    "# 결과물을 담을 리스트 생성.\n",
    "result = []\n",
    "for i in word_token :\n",
    "    # 토큰화 된 단어들이 불용어 사전에 존재하지 않는다면 리스트에 담기.\n",
    "    if i not in stop_word :\n",
    "        result.append(i)\n",
    "\n",
    "print(result)"
   ]
  },
  {
   "cell_type": "code",
   "execution_count": 2,
   "metadata": {},
   "outputs": [
    {
     "name": "stdout",
     "output_type": "stream",
     "text": [
      "['고기를', '구우려고', '안', '돼', '.', '고기라고', '다', '같은', '게', '.', '삼겹살을', '구울', '때는', '중요한', '게', '있지', '.']\n"
     ]
    }
   ],
   "source": [
    "# 한국어 불용어 제거.\n",
    "text2      = \"고기를 아무렇게나 구우려고 하면 안 돼. 고기라고 다 같은 게 아니거든. 예컨대 삼겹살을 구울 때는 중요한 게 있지.\"\n",
    "\n",
    "# 아래 문장을 불용어라고 가정.\n",
    "stop_word2 = \"아무거나 아무렇게나 어찌하든지 같다 비슷하다 예컨대 이럴정도로 하면 아니거든\"\n",
    "stop_word2 = stop_word2.split()\n",
    "# print(stop_word2)\n",
    "\n",
    "# 문장 토큰화 작업.\n",
    "word_token2 = word_tokenize(text2)\n",
    "# print(word_token2)\n",
    "\n",
    "# 결과물을 담을 리스트 생성.\n",
    "result2 = []\n",
    "for i in word_token2 :\n",
    "    # 토큰화 된 단어들이 불용어 사전에 존재하지 않는다면 리스트에 담기.\n",
    "    if i not in stop_word2 :\n",
    "        result2.append(i)\n",
    "\n",
    "print(result2)"
   ]
  }
 ],
 "metadata": {
  "kernelspec": {
   "display_name": "PyTorch",
   "language": "python",
   "name": "pytorch"
  },
  "language_info": {
   "codemirror_mode": {
    "name": "ipython",
    "version": 3
   },
   "file_extension": ".py",
   "mimetype": "text/x-python",
   "name": "python",
   "nbconvert_exporter": "python",
   "pygments_lexer": "ipython3",
   "version": "3.7.10"
  }
 },
 "nbformat": 4,
 "nbformat_minor": 4
}
