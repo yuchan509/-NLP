{
 "cells": [
  {
   "cell_type": "markdown",
   "metadata": {},
   "source": [
    "### zip을 이용한 데이터 분리"
   ]
  },
  {
   "cell_type": "code",
   "execution_count": 1,
   "metadata": {},
   "outputs": [
    {
     "name": "stdout",
     "output_type": "stream",
     "text": [
      "('a', 'b', 'c')\n",
      "(1, 2, 3)\n",
      "\n",
      "('a', 'b', 'c')\n",
      "(1, 2, 3)\n"
     ]
    }
   ],
   "source": [
    "x, y = zip(['a', 1], ['b', 2], ['c', 3])\n",
    "print(x)\n",
    "print(y)\n",
    "print()\n",
    "\n",
    "# 리스트의 리스트 또는 행렬 또는 2D tensor.\n",
    "sequences = [['a', 1], ['b', 2], ['c', 3]] \n",
    "\n",
    "# *를 추가.\n",
    "X,Y = zip( *sequences ) \n",
    "print(X)\n",
    "print(Y)"
   ]
  },
  {
   "cell_type": "markdown",
   "metadata": {},
   "source": [
    "### Dataframe을 이용한 데이터 분리"
   ]
  },
  {
   "cell_type": "code",
   "execution_count": 2,
   "metadata": {},
   "outputs": [
    {
     "data": {
      "text/plain": [
       "0          당신에게 드리는 마지막 혜택!\n",
       "1      내일 뵐 수 있을지 확인 부탁드...\n",
       "2      도연씨. 잘 지내시죠? 오랜만입...\n",
       "3    (광고) AI로 주가를 예측할 수 있다!\n",
       "Name: 메일 본문, dtype: object"
      ]
     },
     "metadata": {},
     "output_type": "display_data"
    },
    {
     "data": {
      "text/plain": [
       "0    1\n",
       "1    0\n",
       "2    0\n",
       "3    1\n",
       "Name: 스팸 메일 유무, dtype: int64"
      ]
     },
     "metadata": {},
     "output_type": "display_data"
    }
   ],
   "source": [
    "import pandas as pd\n",
    "\n",
    "# 데이터 프레임 생성.\n",
    "values = [['당신에게 드리는 마지막 혜택!', 1],\n",
    "        ['내일 뵐 수 있을지 확인 부탁드...', 0],\n",
    "        ['도연씨. 잘 지내시죠? 오랜만입...', 0],\n",
    "        ['(광고) AI로 주가를 예측할 수 있다!', 1]]\n",
    "\n",
    "columns = ['메일 본문', '스팸 메일 유무']\n",
    "df = pd.DataFrame(values, columns = columns)\n",
    "df\n",
    "\n",
    "x = df['메일 본문']\n",
    "y = df['스팸 메일 유무']\n",
    "display(x)\n",
    "display(y)"
   ]
  },
  {
   "cell_type": "markdown",
   "metadata": {},
   "source": [
    "### Numpy를 이용한 데이터 분리"
   ]
  },
  {
   "cell_type": "code",
   "execution_count": 3,
   "metadata": {},
   "outputs": [
    {
     "name": "stdout",
     "output_type": "stream",
     "text": [
      "[[ 0  1  2  3]\n",
      " [ 4  5  6  7]\n",
      " [ 8  9 10 11]\n",
      " [12 13 14 15]]\n"
     ]
    },
    {
     "data": {
      "text/plain": [
       "array([[ 0,  1,  2],\n",
       "       [ 4,  5,  6],\n",
       "       [ 8,  9, 10],\n",
       "       [12, 13, 14]])"
      ]
     },
     "metadata": {},
     "output_type": "display_data"
    },
    {
     "data": {
      "text/plain": [
       "array([ 3,  7, 11, 15])"
      ]
     },
     "metadata": {},
     "output_type": "display_data"
    }
   ],
   "source": [
    "import numpy as np\n",
    "\n",
    "array = np.arange(0,16).reshape((4,4))\n",
    "print(array)\n",
    "\n",
    "x = array[: , :3]\n",
    "y = array[:, 3]\n",
    "display(x)\n",
    "display(y)"
   ]
  },
  {
   "cell_type": "markdown",
   "metadata": {},
   "source": [
    "### Sklearn을 이용한 데이터 분리"
   ]
  },
  {
   "cell_type": "code",
   "execution_count": 4,
   "metadata": {},
   "outputs": [
    {
     "name": "stdout",
     "output_type": "stream",
     "text": [
      "[[8 9]\n",
      " [0 1]\n",
      " [6 7]]\n",
      "[4, 0, 3]\n",
      "[[4 5]\n",
      " [2 3]]\n",
      "[2, 1]\n"
     ]
    }
   ],
   "source": [
    "from sklearn.model_selection import train_test_split\n",
    "\n",
    "x, y = np.arange(10).reshape((5, 2)), range(5)\n",
    "\n",
    "# shuffle : True or False => False 값을 갖는다면 계층적 추출을 하겠다는 의미이므로 stratify = None 값으로 설정해야함.\n",
    "# stratify : 분류 문제를 다룰 때 매우 중요한 옵션. stratify 값을 target으로 지정해주면 각각의 class 비율을 train / validation에 유지.\n",
    "# 한 쪽에 쏠려서 분배되는 것을 방지하는 역할.\n",
    "x_train, x_test, y_train, y_test = train_test_split(x, y, test_size = 0.3, random_state = 1)\n",
    "print(x_train)\n",
    "print(y_train)\n",
    "print(x_test)\n",
    "print(y_test)"
   ]
  }
 ],
 "metadata": {
  "kernelspec": {
   "display_name": "PyTorch",
   "language": "python",
   "name": "pytorch"
  },
  "language_info": {
   "codemirror_mode": {
    "name": "ipython",
    "version": 3
   },
   "file_extension": ".py",
   "mimetype": "text/x-python",
   "name": "python",
   "nbconvert_exporter": "python",
   "pygments_lexer": "ipython3",
   "version": "3.7.10"
  }
 },
 "nbformat": 4,
 "nbformat_minor": 4
}
