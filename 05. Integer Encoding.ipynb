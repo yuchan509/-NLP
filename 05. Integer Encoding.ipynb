{
 "cells": [
  {
   "cell_type": "markdown",
   "metadata": {},
   "source": [
    "### Integer Encoding \n",
    "- 단어에 정수를 부여하는 방법 중 하나로 단어를 빈도수 순으로 정렬한 단어 집합(vocabulary)을 만들고, 빈도수가 높은 순서대로 차례로 낮은 숫자부터 정수를 부여하는 방법 등을 이용."
   ]
  },
  {
   "cell_type": "code",
   "execution_count": 1,
   "metadata": {},
   "outputs": [],
   "source": [
    "from nltk.corpus import stopwords\n",
    "from nltk.tokenize import sent_tokenize\n",
    "from nltk.tokenize import word_tokenize\n",
    "\n",
    "from collections import Counter\n",
    "\n",
    "import numpy as np\n",
    "from nltk import FreqDist\n",
    "\n",
    "from tensorflow.keras.preprocessing.text import Tokenizer"
   ]
  },
  {
   "cell_type": "code",
   "execution_count": 2,
   "metadata": {},
   "outputs": [
    {
     "name": "stdout",
     "output_type": "stream",
     "text": [
      "['A barber is a person.', 'a barber is good person.', 'a barber is huge person.', 'he Knew A Secret!', 'The Secret He Kept is huge secret.', 'Huge secret.', 'His barber kept his word.', 'a barber kept his word.', 'His barber kept his secret.', 'But keeping and keeping such a huge secret \\n        to himself was driving the barber crazy.', 'the barber went up a huge mountain.']\n",
      "\n",
      "{'barber': 8, 'person': 3, 'good': 1, 'huge': 5, 'knew': 1, 'secret': 6, 'kept': 4, 'word': 2, 'keeping': 2, 'driving': 1, 'crazy': 1, 'went': 1, 'mountain': 1}\n",
      "\n",
      "[['barber', 'person'], ['barber', 'good', 'person'], ['barber', 'huge', 'person'], ['knew', 'secret'], ['secret', 'kept', 'huge', 'secret'], ['huge', 'secret'], ['barber', 'kept', 'word'], ['barber', 'kept', 'word'], ['barber', 'kept', 'secret'], ['keeping', 'keeping', 'huge', 'secret', 'driving', 'barber', 'crazy'], ['barber', 'went', 'huge', 'mountain']]\n",
      "\n",
      "[('barber', 8), ('secret', 6), ('huge', 5), ('kept', 4), ('person', 3), ('word', 2), ('keeping', 2), ('good', 1), ('knew', 1), ('driving', 1), ('crazy', 1), ('went', 1), ('mountain', 1)]\n",
      "\n",
      "{'barber': 1, 'secret': 2, 'huge': 3, 'kept': 4, 'person': 5, 'word': 6, 'keeping': 7}\n",
      "\n",
      "{'barber': 1, 'secret': 2, 'huge': 3, 'kept': 4, 'person': 5}\n",
      "\n",
      "[[1, 5], [1, 6, 5], [1, 3, 5], [6, 2], [2, 4, 3, 2], [3, 2], [1, 4, 6], [1, 4, 6], [1, 4, 2], [6, 6, 3, 2, 6, 1, 6], [1, 6, 3, 6]]\n"
     ]
    }
   ],
   "source": [
    "text = '''A barber is a person. a barber is good person. a barber is huge person. \n",
    "        he Knew A Secret! The Secret He Kept is huge secret. Huge secret. His barber kept his word. \n",
    "        a barber kept his word. His barber kept his secret. But keeping and keeping such a huge secret \n",
    "        to himself was driving the barber crazy. the barber went up a huge mountain.''' \n",
    "\n",
    "\n",
    "# 문장 토큰화 작업.\n",
    "text1 = sent_tokenize(text)\n",
    "print(text1)\n",
    "print()\n",
    "\n",
    "# 정제와 단어 토큰화 작업.\n",
    "# 단어를 담을 딕셔너리 생성.\n",
    "vocab = {}\n",
    "sentences = []\n",
    "\n",
    "# 영어 불용어 사전.\n",
    "stop_words = set(stopwords.words('english'))\n",
    "\n",
    "for i in text1 :\n",
    "    # 단어 토큰화.\n",
    "    word = word_tokenize(i)\n",
    "    results = []\n",
    "    \n",
    "    for w in word :\n",
    "        # 소문자화.\n",
    "        w = w.lower()\n",
    "        # 토큰화 된 단어 중 불용어가 존재하는 것은 제거.\n",
    "        if w not in stop_words :\n",
    "            \n",
    "            # 길이가 2이하, 즉 너무 짧은 단어도 제거.\n",
    "            if len(w) > 2 :\n",
    "                results.append(w)\n",
    "                \n",
    "                # 단어 빈도수를 알아보기 위해 딕셔너리에 담기.\n",
    "                if w not in vocab :\n",
    "                    vocab[w] = 0\n",
    "                vocab[w] += 1\n",
    "                \n",
    "    # 결과 리스트를 다시 리스트에 담기.            \n",
    "    sentences.append(results)\n",
    "    \n",
    "print(vocab)\n",
    "print()\n",
    "print(sentences)\n",
    "print()\n",
    "\n",
    "\n",
    "# 단어의 빈도수가 높은 순으로 정렬.\n",
    "# 정렬 기준은 value값 기준으로 key를 이용하여 설정.\n",
    "# 내림 차순 정렬.\n",
    "sort_vocab = sorted(vocab.items(), key = lambda s : s[1], reverse = True)\n",
    "print(sort_vocab)\n",
    "print()\n",
    "\n",
    "# 높은 빈도수를 가질 수록 낮은 정수 인덱스를 부여.\n",
    "word_to_index = {}\n",
    "cnt = 0\n",
    "for w, f in sort_vocab :\n",
    "    if f > 1 :\n",
    "        cnt += 1\n",
    "        word_to_index[w] = cnt\n",
    "\n",
    "print(word_to_index)\n",
    "\n",
    "\n",
    "# 상위 5개의 단어만 이용.\n",
    "# index 5 초과의 key 탐색.\n",
    "word_freq = [i for i, j in word_to_index.items() if j >= 6]\n",
    "\n",
    "for w in word_freq :\n",
    "    # 해당 단어의 인덱스 정보 제거.\n",
    "    del word_to_index[w]\n",
    "\n",
    "print()\n",
    "print(word_to_index)\n",
    "\n",
    "\n",
    "# Out of vocabulary(단어 집합에 없는 단어), OOV에 대한 처리 작업.\n",
    "# 단어 집합에 없는 단어 key 및 값 생성. \n",
    "word_to_index['OOV'] = len(word_to_index) + 1\n",
    "\n",
    "\n",
    "# word_to_index를 이용하여, sentences의 모든 단어를 맵핑되는 정수로 인코딩 작업.\n",
    "# 정수 인코딩 된 값을 담기 위한 리스트 생성.\n",
    "encoded = []\n",
    "for i in sentences :\n",
    "    temp = []\n",
    "    for w in i :\n",
    "        try :\n",
    "            temp.append(word_to_index[w])\n",
    "        except :\n",
    "            temp.append(word_to_index['OOV'])\n",
    "    encoded.append(temp)\n",
    "print()\n",
    "print(encoded)"
   ]
  },
  {
   "cell_type": "markdown",
   "metadata": {},
   "source": [
    "### Counter "
   ]
  },
  {
   "cell_type": "code",
   "execution_count": 3,
   "metadata": {},
   "outputs": [
    {
     "name": "stdout",
     "output_type": "stream",
     "text": [
      "['barber', 'person', 'barber', 'good', 'person', 'barber', 'huge', 'person', 'knew', 'secret', 'secret', 'kept', 'huge', 'secret', 'huge', 'secret', 'barber', 'kept', 'word', 'barber', 'kept', 'word', 'barber', 'kept', 'secret', 'keeping', 'keeping', 'huge', 'secret', 'driving', 'barber', 'crazy', 'barber', 'went', 'huge', 'mountain']\n",
      "\n",
      "Counter({'barber': 8, 'secret': 6, 'huge': 5, 'kept': 4, 'person': 3, 'word': 2, 'keeping': 2, 'good': 1, 'knew': 1, 'driving': 1, 'crazy': 1, 'went': 1, 'mountain': 1})\n",
      "\n",
      "[('barber', 8), ('secret', 6), ('huge', 5), ('kept', 4), ('person', 3)]\n",
      "\n",
      "{'barber': 1, 'secret': 2, 'huge': 3, 'kept': 4, 'person': 5}\n"
     ]
    }
   ],
   "source": [
    "words = sum(sentences, [])\n",
    "print(words)\n",
    "print()\n",
    "\n",
    "# Counter() : 중복 제거 및 단어 빈도수 출력.\n",
    "vocab = Counter(words)\n",
    "print(vocab)\n",
    "print()\n",
    "\n",
    "# 상위 5개 단어만 이용.\n",
    "# most_common(n) : 가장 빈도수가 많은 n개를 출력. \n",
    "vocab = vocab.most_common(5)\n",
    "print(vocab)\n",
    "print()\n",
    "\n",
    "# 높은 빈도를 가질수록 낮은 정수 인덱스를 부여.\n",
    "word_to_index = {}\n",
    "cnt = 0\n",
    "for w, f in vocab :\n",
    "    cnt += 1\n",
    "    word_to_index[w] = cnt\n",
    "\n",
    "print(word_to_index)"
   ]
  },
  {
   "cell_type": "markdown",
   "metadata": {},
   "source": [
    "### FreqDist by NLTK"
   ]
  },
  {
   "cell_type": "code",
   "execution_count": 4,
   "metadata": {},
   "outputs": [
    {
     "name": "stdout",
     "output_type": "stream",
     "text": [
      "[('barber', 8), ('secret', 6), ('huge', 5), ('kept', 4), ('person', 3)]\n",
      "\n",
      "{'barber': 1, 'secret': 2, 'huge': 3, 'kept': 4, 'person': 5}\n"
     ]
    }
   ],
   "source": [
    "# np.hstack(sentences) : 배열리스트를 왼쪽에서 오른쪽으로 붙이기.\n",
    "vocab = FreqDist(np.hstack(sentences))\n",
    "\n",
    "# 상위 5개 단어만 이용.\n",
    "# most_common(n) : 가장 빈도수가 많은 n개를 출력. \n",
    "vocab = vocab.most_common(5)\n",
    "print(vocab)\n",
    "print()\n",
    "\n",
    "word_to_index = {w[0] : idx + 1 for idx, w in enumerate(vocab)}\n",
    "print(word_to_index)"
   ]
  },
  {
   "cell_type": "markdown",
   "metadata": {},
   "source": [
    "### Keras"
   ]
  },
  {
   "cell_type": "code",
   "execution_count": 5,
   "metadata": {},
   "outputs": [
    {
     "name": "stdout",
     "output_type": "stream",
     "text": [
      "{'barber': 1, 'secret': 2, 'huge': 3, 'kept': 4, 'person': 5, 'word': 6, 'keeping': 7, 'good': 8, 'knew': 9, 'driving': 10, 'crazy': 11, 'went': 12, 'mountain': 13}\n",
      "\n",
      "OrderedDict([('barber', 8), ('person', 3), ('good', 1), ('huge', 5), ('knew', 1), ('secret', 6), ('kept', 4), ('word', 2), ('keeping', 2), ('driving', 1), ('crazy', 1), ('went', 1), ('mountain', 1)])\n",
      "\n",
      "[[1, 5], [1, 8, 5], [1, 3, 5], [9, 2], [2, 4, 3, 2], [3, 2], [1, 4, 6], [1, 4, 6], [1, 4, 2], [7, 7, 3, 2, 10, 1, 11], [1, 12, 3, 13]]\n",
      "\n",
      "{'barber': 1, 'secret': 2, 'huge': 3, 'kept': 4, 'person': 5, 'word': 6, 'keeping': 7, 'good': 8, 'knew': 9, 'driving': 10, 'crazy': 11, 'went': 12, 'mountain': 13}\n",
      "\n",
      "[[1, 5], [1, 5], [1, 3, 5], [2], [2, 4, 3, 2], [3, 2], [1, 4], [1, 4], [1, 4, 2], [3, 2, 1], [1, 3]]\n",
      "\n",
      "단어 OOV의 인덱스 : 1\n"
     ]
    }
   ],
   "source": [
    "tokenizer = Tokenizer()\n",
    "\n",
    "# fit_on_texts() : 코퍼스를 입력으로 하면 빈도수를 기준으로 단어 집합을 생성.\n",
    "tokenizer.fit_on_texts(sentences)\n",
    "\n",
    "# word_index : 각 단어당 부여된 인덱스를 봄.\n",
    "print(tokenizer.word_index)\n",
    "print()\n",
    "\n",
    "# word_counts : 각 단어 카운트 수행.\n",
    "print(tokenizer.word_counts)\n",
    "print()\n",
    "\n",
    "# 입력으로 들어온 코퍼스에 대하여 각 단어를 이미 정해진 인덱스로 변환.\n",
    "print(tokenizer.texts_to_sequences(sentences))\n",
    "print()\n",
    "\n",
    "# num_words : 0부터 시작하므로 1을 카운트. -> 이후 padding 작업을 위해.\n",
    "# 상위 5개 단어만 사용.\n",
    "tokenizer = Tokenizer(num_words = 6) \n",
    "tokenizer.fit_on_texts(sentences)\n",
    "print(tokenizer.word_index)\n",
    "print()\n",
    "print(tokenizer.texts_to_sequences(sentences))\n",
    "\n",
    "\n",
    "# OOV 간주하여 토큰화한다면, oov_token 이용.\n",
    "# OOV 고려하였으므로, +2\n",
    "tokenizer = Tokenizer(num_words = 7, oov_token = 'OOV')\n",
    "tokenizer.fit_on_texts(sentences)\n",
    "print()\n",
    "print('단어 OOV의 인덱스 : {}'.format(tokenizer.word_index['OOV']))"
   ]
  }
 ],
 "metadata": {
  "kernelspec": {
   "display_name": "PyTorch",
   "language": "python",
   "name": "pytorch"
  },
  "language_info": {
   "codemirror_mode": {
    "name": "ipython",
    "version": 3
   },
   "file_extension": ".py",
   "mimetype": "text/x-python",
   "name": "python",
   "nbconvert_exporter": "python",
   "pygments_lexer": "ipython3",
   "version": "3.7.10"
  }
 },
 "nbformat": 4,
 "nbformat_minor": 4
}
